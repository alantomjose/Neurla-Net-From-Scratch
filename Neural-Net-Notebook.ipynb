{
 "cells": [
  {
   "cell_type": "code",
   "execution_count": 1,
   "metadata": {},
   "outputs": [],
   "source": [
    "import pandas as pd\n",
    "import numpy as np\n",
    "from sklearn.preprocessing import OneHotEncoder\n",
    "from sklearn.model_selection import train_test_split\n",
    "#from Neural_net import NeuralNet\n"
   ]
  },
  {
   "cell_type": "code",
   "execution_count": 2,
   "metadata": {},
   "outputs": [],
   "source": [
    "iris = pd.read_csv(\"./Iris.csv\")"
   ]
  },
  {
   "cell_type": "code",
   "execution_count": 3,
   "metadata": {},
   "outputs": [],
   "source": [
    "iris = iris.sample(frac=1).reset_index(drop=True)"
   ]
  },
  {
   "cell_type": "code",
   "execution_count": 4,
   "metadata": {},
   "outputs": [
    {
     "data": {
      "text/plain": [
       "Index(['Id', 'SepalLengthCm', 'SepalWidthCm', 'PetalLengthCm', 'PetalWidthCm',\n",
       "       'Species'],\n",
       "      dtype='object')"
      ]
     },
     "execution_count": 4,
     "metadata": {},
     "output_type": "execute_result"
    }
   ],
   "source": [
    "iris.columns"
   ]
  },
  {
   "cell_type": "code",
   "execution_count": 5,
   "metadata": {},
   "outputs": [],
   "source": [
    "X = iris[['SepalLengthCm', 'SepalWidthCm', 'PetalLengthCm', 'PetalWidthCm']] \n",
    "X = np.array(X)"
   ]
  },
  {
   "cell_type": "code",
   "execution_count": 6,
   "metadata": {},
   "outputs": [],
   "source": [
    "y = iris.Species"
   ]
  },
  {
   "cell_type": "code",
   "execution_count": 7,
   "metadata": {},
   "outputs": [],
   "source": [
    "encoder =  OneHotEncoder(sparse=False)\n",
    "y = encoder.fit_transform(np.array(y).reshape(-1,1))"
   ]
  },
  {
   "cell_type": "code",
   "execution_count": 8,
   "metadata": {},
   "outputs": [],
   "source": [
    "X_train,X_test,y_train,y_test = train_test_split(X,y,test_size=0.15)\n",
    "X_train,X_val,y_train,y_val = train_test_split(X,y,test_size=0.1)"
   ]
  },
  {
   "cell_type": "code",
   "execution_count": 9,
   "metadata": {},
   "outputs": [],
   "source": [
    "'''' class NeuralNet():\n",
    "    def __init__(self,X,y,layers):\n",
    "        self.X=X\n",
    "        self.y=y\n",
    "        self.layers = layers\n",
    "        self.nofl = len(self.layers)\n",
    "        self.weights = self.InitializeWeights()\n",
    "        self.X_train,self.X_test,self.y_train,self.y_test = train_test_split(X,y,test_size=0.15)\n",
    "        self.X_train,self.X_val,self.y_train,self.y_val = train_test_split(X,y,test_size=0.1)\n",
    "\n",
    "\n",
    "    def printall(self):\n",
    "        '''test function to test import '''\n",
    "        print(\"NN class\")\n",
    "\n",
    "    def InitializeWeights(self):\n",
    "        ''' Initailises the theta matrix with random valuse'''\n",
    "        self.weights = []\n",
    "        #self.layers = layers\n",
    "        #slef.nofl = len(self.layers)\n",
    "        for i in range(1,self.nofl):\n",
    "            w = np.array([[np.random.uniform(-1,1) for k in range(self.layers[i-1]+1)] for j in range(self.layers[i])])\n",
    "            print('Theta1 {} is {}'.format(i,w.shape))\n",
    "            self.weights.append(w)\n",
    "        return self.weights\n",
    "    \n",
    "    def sigmoid(self,z):\n",
    "        z=1.0/(1.0+np.exp(-z))\n",
    "        return z\n",
    "    \n",
    "    def sigmoidDerivative(self,x):\n",
    "        return x*(1-x) '''"
   ]
  },
  {
   "cell_type": "code",
   "execution_count": 9,
   "metadata": {},
   "outputs": [],
   "source": [
    "\n",
    "def InitializeWeights(layers):\n",
    "    ''' Initailises the theta matrix with random valuse'''\n",
    "    weights = []\n",
    "    #self.layers = layers\n",
    "    nofl = len(layers)\n",
    "    for i in range(1,nofl):\n",
    "        w = np.array([[np.random.uniform(-1,1) for k in range(layers[i-1]+1)] for j in range(layers[i])])\n",
    "        print('Theta1 {} is {}'.format(i,w.shape))\n",
    "        weights.append(w)\n",
    "    return weights"
   ]
  },
  {
   "cell_type": "code",
   "execution_count": 18,
   "metadata": {},
   "outputs": [
    {
     "name": "stdout",
     "output_type": "stream",
     "text": [
      "Theta1 1 is (2, 5)\n",
      "Theta1 2 is (3, 3)\n"
     ]
    }
   ],
   "source": [
    "nn=NeuralNet(X,y,[4,2,3])"
   ]
  },
  {
   "cell_type": "code",
   "execution_count": 11,
   "metadata": {},
   "outputs": [
    {
     "name": "stdout",
     "output_type": "stream",
     "text": [
      "Theta1 1 is (5, 5)\n",
      "Theta1 2 is (5, 6)\n",
      "Theta1 3 is (3, 6)\n"
     ]
    }
   ],
   "source": [
    "#weights=[]\n",
    "#weights = nn.InitializeWeights([4,2,6,4])\n",
    "randw=InitializeWeights([4,5,5,3])"
   ]
  },
  {
   "cell_type": "code",
   "execution_count": 12,
   "metadata": {},
   "outputs": [],
   "source": [
    "def sigmoid(z):\n",
    "    z=1.0/(1.0+np.exp(-z))\n",
    "    return z\n",
    "    "
   ]
  },
  {
   "cell_type": "code",
   "execution_count": 13,
   "metadata": {},
   "outputs": [],
   "source": [
    "#weights = nn.weights\n",
    "#weights = InitializeWeights([4,5,5,3])"
   ]
  },
  {
   "cell_type": "code",
   "execution_count": 16,
   "metadata": {},
   "outputs": [
    {
     "data": {
      "text/plain": [
       "[array([[ 0.94309749,  0.73826401, -0.05682383, -0.72888055,  0.2770309 ],\n",
       "        [ 0.78864343, -0.78180003,  0.20731104,  0.07772142,  0.25141022],\n",
       "        [ 0.09339987, -0.17838092, -0.02497659,  0.34702986,  0.72957425],\n",
       "        [ 0.15316139,  0.17988131,  0.49414663,  0.19916019,  0.27723683],\n",
       "        [ 0.46304925,  0.56060196,  0.90451938,  0.7281644 , -0.7581826 ]]),\n",
       " array([[ 0.84495818, -0.40811993, -0.66367367, -0.59712342, -0.48188517,\n",
       "         -0.99817736],\n",
       "        [ 0.58659139,  0.47216348,  0.91426635, -0.96548728, -0.24374005,\n",
       "         -0.58290351],\n",
       "        [-0.84539859,  0.27376664, -0.37281541, -0.66650659,  0.34367876,\n",
       "          0.07346123],\n",
       "        [-0.18025093, -0.27510989, -0.49215376,  0.37987578,  0.38929579,\n",
       "         -0.47891937],\n",
       "        [ 0.88142958, -0.80883323,  0.00188232, -0.34525714, -0.49587568,\n",
       "         -0.62284154]]),\n",
       " array([[ 0.11004747, -0.96157386,  0.33494735, -0.9660967 ,  0.5050076 ,\n",
       "          0.97755188],\n",
       "        [-0.64267286, -0.0784021 , -0.85738762, -0.79487741, -0.93757396,\n",
       "          0.7987872 ],\n",
       "        [ 0.5594421 ,  0.27760558, -0.73624231,  0.38371715, -0.55916881,\n",
       "          0.41435371]])]"
      ]
     },
     "execution_count": 16,
     "metadata": {},
     "output_type": "execute_result"
    }
   ],
   "source": [
    "randw"
   ]
  },
  {
   "cell_type": "code",
   "execution_count": 17,
   "metadata": {},
   "outputs": [],
   "source": [
    "def forwardPropagation(x,weights):\n",
    "    numofl=len(weights)+1\n",
    "    activation = [x]\n",
    "    nodes=np.ones((x.shape[0],x.shape[1]+1))\n",
    "    nodes[:,1:]=x\n",
    "    #print(nodes.shape)\n",
    "    for i in range(numofl-1):\n",
    "        a = sigmoid(nodes.dot(weights[i].T))\n",
    "        activation.append(a)\n",
    "        nodes=np.ones((a.shape[0],a.shape[1]+1))\n",
    "        nodes[:,1:]=a\n",
    "       # print(\"Foreward propagating theta {}\".format(i+1))\n",
    "    #print(activation.shape)\n",
    "    return activation\n",
    "        \n",
    "        "
   ]
  },
  {
   "cell_type": "code",
   "execution_count": 18,
   "metadata": {},
   "outputs": [],
   "source": [
    "a = forwardPropagation(X_train,randw)\n"
   ]
  },
  {
   "cell_type": "code",
   "execution_count": 19,
   "metadata": {},
   "outputs": [],
   "source": [
    "def sigmoidDerivative(x):\n",
    "    return x*(1-x)"
   ]
  },
  {
   "cell_type": "code",
   "execution_count": 20,
   "metadata": {},
   "outputs": [],
   "source": [
    "def backPropagation(y,activation,weights,lr=0.15):\n",
    "    nofl=len(weights)+1\n",
    "    output = activation[-1]\n",
    "    error = y-output\n",
    "    for j in range(nofl-1,0,-1):\n",
    "        curact=activation[j]\n",
    "        nodes=np.ones((activation[j-1].shape[0],activation[j-1].shape[1]+1))\n",
    "        nodes[:,1:]=activation[j-1]\n",
    "        preact= nodes\n",
    "        \n",
    "        \n",
    "        print(curact.shape,error.shape)\n",
    "        delta = error*sigmoidDerivative(curact)\n",
    "        weights[j-1] += lr*(delta.T.dot(preact))\n",
    "        print(delta.shape,preact.shape)\n",
    "        error = delta.dot(weights[j-1][:,1:])\n",
    "        print(error.shape)\n",
    "    return weights"
   ]
  },
  {
   "cell_type": "code",
   "execution_count": 18,
   "metadata": {},
   "outputs": [
    {
     "name": "stdout",
     "output_type": "stream",
     "text": [
      "(135, 3) (135, 3)\n",
      "(135, 3) (135, 5)\n",
      "(135, 4)\n",
      "(135, 4) (135, 4)\n",
      "(135, 4) (135, 6)\n",
      "(135, 5)\n",
      "(135, 5) (135, 5)\n",
      "(135, 5) (135, 3)\n",
      "(135, 2)\n",
      "(135, 2) (135, 2)\n",
      "(135, 2) (135, 5)\n",
      "(135, 4)\n"
     ]
    }
   ],
   "source": [
    "trainedweights = backPropagation(y_train,a,weights,0.15)"
   ]
  },
  {
   "cell_type": "code",
   "execution_count": 21,
   "metadata": {},
   "outputs": [],
   "source": [
    "def train(X,y,weights,lr=0.15):\n",
    "    nofl=len(weights)+1\n",
    "    activations = forwardPropagation(X,weights)\n",
    "    weights = backPropagation(y,activations,weights,lr)\n",
    "    return weights\n",
    "    \n",
    "    "
   ]
  },
  {
   "cell_type": "code",
   "execution_count": 22,
   "metadata": {},
   "outputs": [
    {
     "name": "stdout",
     "output_type": "stream",
     "text": [
      "(135, 3) (135, 3)\n",
      "(135, 3) (135, 6)\n",
      "(135, 5)\n",
      "(135, 5) (135, 5)\n",
      "(135, 5) (135, 6)\n",
      "(135, 5)\n",
      "(135, 5) (135, 5)\n",
      "(135, 5) (135, 5)\n",
      "(135, 4)\n"
     ]
    }
   ],
   "source": [
    "reweights = train(X_train,y_train,randw)"
   ]
  },
  {
   "cell_type": "code",
   "execution_count": 23,
   "metadata": {},
   "outputs": [],
   "source": [
    "def predict(x,weights):\n",
    "    nofl=len(weights)+1\n",
    "    activation = forwardPropagation(x,weights)\n",
    "    output = activation[-1]\n",
    "    \n",
    "    return output\n",
    "    \n",
    "    \n",
    "    "
   ]
  },
  {
   "cell_type": "code",
   "execution_count": 24,
   "metadata": {},
   "outputs": [
    {
     "data": {
      "text/plain": [
       "array([[0.11684721, 0.2046067 , 0.09509725],\n",
       "       [0.11371976, 0.2037693 , 0.09453039],\n",
       "       [0.11380627, 0.20495355, 0.09341017],\n",
       "       [0.11252873, 0.20455317, 0.09353264],\n",
       "       [0.11260851, 0.20398146, 0.0939885 ],\n",
       "       [0.11341741, 0.2034929 , 0.0944082 ],\n",
       "       [0.11182814, 0.20378661, 0.09323349],\n",
       "       [0.11506852, 0.20517069, 0.09419304],\n",
       "       [0.1134672 , 0.2037874 , 0.09438738],\n",
       "       [0.11532435, 0.20472143, 0.09426544],\n",
       "       [0.11335408, 0.20457791, 0.09336124],\n",
       "       [0.1132128 , 0.20408432, 0.0932756 ],\n",
       "       [0.11484849, 0.20538003, 0.09445977],\n",
       "       [0.1118064 , 0.20355307, 0.0931501 ],\n",
       "       [0.1134364 , 0.20362453, 0.09397513],\n",
       "       [0.11414796, 0.20390029, 0.09433764],\n",
       "       [0.11352342, 0.20481419, 0.09342871],\n",
       "       [0.11190648, 0.20355317, 0.09316696],\n",
       "       [0.11268285, 0.20418243, 0.09327554],\n",
       "       [0.1126849 , 0.20465708, 0.09348947],\n",
       "       [0.11325189, 0.20376073, 0.09412478],\n",
       "       [0.11415698, 0.20464672, 0.09432517],\n",
       "       [0.1154133 , 0.20456423, 0.09478553]])"
      ]
     },
     "execution_count": 24,
     "metadata": {},
     "output_type": "execute_result"
    }
   ],
   "source": [
    "reweights\n",
    "predict(X_test,reweights)"
   ]
  },
  {
   "cell_type": "code",
   "execution_count": 25,
   "metadata": {},
   "outputs": [
    {
     "data": {
      "text/plain": [
       "[array([[ 0.96558471,  0.87057233,  0.00932784, -0.63643659,  0.30685465],\n",
       "        [ 0.79929442, -0.75668901,  0.25338315,  0.01461573,  0.21936015],\n",
       "        [ 0.04506636, -0.45071557, -0.16794395,  0.18388178,  0.68206429],\n",
       "        [ 0.15974833,  0.2160252 ,  0.51405114,  0.21939293,  0.28313995],\n",
       "        [ 0.46291482,  0.55994012,  0.90410544,  0.72792972, -0.75822696]]),\n",
       " array([[ 1.00042283, -0.2767671 , -0.65792504, -0.40548123, -0.32521651,\n",
       "         -0.84265217],\n",
       "        [ 0.89132304,  0.77283368,  0.94649726, -0.85605306,  0.04494356,\n",
       "         -0.27846941],\n",
       "        [-0.61586105,  0.46825175, -0.36398763, -0.38938535,  0.57487105,\n",
       "          0.30307965],\n",
       "        [ 0.03330282, -0.062911  , -0.4688312 ,  0.44724612,  0.59097726,\n",
       "         -0.26558845],\n",
       "        [ 0.79314285, -0.88378276, -0.00172023, -0.44881872, -0.58477567,\n",
       "         -0.71115505]]),\n",
       " array([[-0.98331155, -1.12879166,  0.02375601, -1.26438918, -0.01428047,\n",
       "          0.74863872],\n",
       "        [-0.15667227,  0.00515687, -0.68595239, -0.64467433, -0.72175665,\n",
       "          0.9055691 ],\n",
       "        [-0.63878554,  0.03195706, -1.29369517, -0.0602071 , -1.03328576,\n",
       "          0.1286636 ]])]"
      ]
     },
     "execution_count": 25,
     "metadata": {},
     "output_type": "execute_result"
    }
   ],
   "source": [
    "#X_test.shap\n",
    "randw"
   ]
  },
  {
   "cell_type": "code",
   "execution_count": 26,
   "metadata": {},
   "outputs": [],
   "source": [
    "#forwardPropagation(X_train, weights)"
   ]
  },
  {
   "cell_type": "code",
   "execution_count": 107,
   "metadata": {},
   "outputs": [],
   "source": [
    "def BackPropagation(y, activations, weights,lr):\n",
    "    outputFinal = activations[-1]\n",
    "    layers = len(weights)+1\n",
    "    error = np.matrix(y - outputFinal) # Error at output\n",
    "    print(layers)\n",
    "    \n",
    "    \n",
    "    for j in range(layers-1, 0, -1):\n",
    "        currActivation = activations[j]\n",
    "        print(currActivation.shape)\n",
    "        nodes=np.ones((activations[j-1].shape[0],activations[j-1].shape[1]+1))\n",
    "        nodes[:,1:]=activations[j-1]\n",
    "        prevActivation= nodes\n",
    "        ''' \n",
    "       if(j > 1):\n",
    "            # Augment previous activation\n",
    "            prevActivation = np.append(1, activations[j-1])\n",
    "        else:\n",
    "            # First hidden layer, prevActivation is input (without bias)\n",
    "            prevActivation = activations[0] '''\n",
    "       #print(prevActivation)\n",
    "        delta = np.multiply(error, sigmoidDerivative(currActivation))\n",
    "        weights[j-1] += lr * np.dot(delta.T, prevActivation)\n",
    "        print(\"{} done\".format(j))\n",
    "\n",
    "        w = np.delete(weights[j-1], [0], axis=1) # Remove bias from weights\n",
    "        error = np.dot(delta, w) # Calculate error for current layer\n",
    "    \n",
    "    return weights"
   ]
  },
  {
   "cell_type": "code",
   "execution_count": 108,
   "metadata": {},
   "outputs": [
    {
     "name": "stdout",
     "output_type": "stream",
     "text": [
      "Theta1 1 is (5, 5)\n",
      "Theta1 2 is (5, 6)\n",
      "Theta1 3 is (3, 6)\n"
     ]
    }
   ],
   "source": [
    "randw= InitializeWeights([4,5,5,3])\n",
    "a= forwardPropagation(X_train,randw)"
   ]
  },
  {
   "cell_type": "code",
   "execution_count": 109,
   "metadata": {},
   "outputs": [
    {
     "name": "stdout",
     "output_type": "stream",
     "text": [
      "4\n",
      "(135, 3)\n",
      "3 done\n",
      "(135, 5)\n",
      "2 done\n",
      "(135, 5)\n",
      "1 done\n"
     ]
    }
   ],
   "source": [
    "bp = BackPropagation(y_train,a,randw,0.15)"
   ]
  },
  {
   "cell_type": "code",
   "execution_count": 94,
   "metadata": {},
   "outputs": [
    {
     "data": {
      "text/plain": [
       "(135, 3)"
      ]
     },
     "execution_count": 94,
     "metadata": {},
     "output_type": "execute_result"
    }
   ],
   "source": [
    "layers = len(randw)+1\n",
    "a[3].shape"
   ]
  },
  {
   "cell_type": "code",
   "execution_count": 110,
   "metadata": {},
   "outputs": [
    {
     "data": {
      "text/plain": [
       "array([[0.3844186 , 0.10770904, 0.16381188],\n",
       "       [0.38383693, 0.10764607, 0.16401555],\n",
       "       [0.38430744, 0.10844342, 0.16479228],\n",
       "       [0.38427354, 0.10805226, 0.16441206],\n",
       "       [0.38353977, 0.1078308 , 0.16433361],\n",
       "       [0.38397417, 0.10747712, 0.16386343],\n",
       "       [0.3841898 , 0.10792038, 0.16435042],\n",
       "       [0.38387277, 0.10818179, 0.1644857 ],\n",
       "       [0.38367251, 0.10764025, 0.16409877],\n",
       "       [0.38409414, 0.10794714, 0.16418851],\n",
       "       [0.38428718, 0.10831422, 0.16468567],\n",
       "       [0.38438097, 0.10794201, 0.16425071],\n",
       "       [0.38325722, 0.10832845, 0.16478205],\n",
       "       [0.38414927, 0.10781051, 0.16424382],\n",
       "       [0.38420416, 0.10754914, 0.16386166],\n",
       "       [0.38407644, 0.10763004, 0.16393679],\n",
       "       [0.38430551, 0.10835067, 0.16470213],\n",
       "       [0.38422345, 0.10780878, 0.16422017],\n",
       "       [0.38424279, 0.10806747, 0.1644533 ],\n",
       "       [0.38424783, 0.10819462, 0.16457722],\n",
       "       [0.38393864, 0.10764552, 0.16401664],\n",
       "       [0.38325238, 0.10808349, 0.16460665],\n",
       "       [0.38374228, 0.10785999, 0.16420302]])"
      ]
     },
     "execution_count": 110,
     "metadata": {},
     "output_type": "execute_result"
    }
   ],
   "source": [
    "predict(X_test,bp)"
   ]
  },
  {
   "cell_type": "code",
   "execution_count": null,
   "metadata": {},
   "outputs": [],
   "source": []
  }
 ],
 "metadata": {
  "kernelspec": {
   "display_name": "Python 3",
   "language": "python",
   "name": "python3"
  },
  "language_info": {
   "codemirror_mode": {
    "name": "ipython",
    "version": 3
   },
   "file_extension": ".py",
   "mimetype": "text/x-python",
   "name": "python",
   "nbconvert_exporter": "python",
   "pygments_lexer": "ipython3",
   "version": "3.7.3"
  }
 },
 "nbformat": 4,
 "nbformat_minor": 2
}
