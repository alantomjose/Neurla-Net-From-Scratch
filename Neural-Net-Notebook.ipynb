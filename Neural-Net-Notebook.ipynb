{
 "cells": [
  {
   "cell_type": "code",
   "execution_count": 2,
   "metadata": {},
   "outputs": [],
   "source": [
    "import pandas as pd\n",
    "import numpy as np\n",
    "from sklearn.preprocessing import OneHotEncoder\n",
    "from sklearn.model_selection import train_test_split\n",
    "from Neural_net import NeuralNet\n"
   ]
  },
  {
   "cell_type": "code",
   "execution_count": 3,
   "metadata": {},
   "outputs": [],
   "source": [
    "iris = pd.read_csv(\"./Iris.csv\")"
   ]
  },
  {
   "cell_type": "code",
   "execution_count": 4,
   "metadata": {},
   "outputs": [],
   "source": [
    "iris = iris.sample(frac=1).reset_index(drop=True)"
   ]
  },
  {
   "cell_type": "code",
   "execution_count": 5,
   "metadata": {},
   "outputs": [
    {
     "data": {
      "text/plain": [
       "Index(['Id', 'SepalLengthCm', 'SepalWidthCm', 'PetalLengthCm', 'PetalWidthCm',\n",
       "       'Species'],\n",
       "      dtype='object')"
      ]
     },
     "execution_count": 5,
     "metadata": {},
     "output_type": "execute_result"
    }
   ],
   "source": [
    "iris.columns"
   ]
  },
  {
   "cell_type": "code",
   "execution_count": 6,
   "metadata": {},
   "outputs": [],
   "source": [
    "X = iris[['SepalLengthCm', 'SepalWidthCm', 'PetalLengthCm', 'PetalWidthCm']]\n",
    "X = np.array(X)"
   ]
  },
  {
   "cell_type": "code",
   "execution_count": 7,
   "metadata": {},
   "outputs": [],
   "source": [
    "y = iris.Species"
   ]
  },
  {
   "cell_type": "code",
   "execution_count": 8,
   "metadata": {},
   "outputs": [],
   "source": [
    "encoder =  OneHotEncoder(sparse=False)\n",
    "y = encoder.fit_transform(np.array(y).reshape(-1,1))"
   ]
  },
  {
   "cell_type": "code",
   "execution_count": 9,
   "metadata": {},
   "outputs": [],
   "source": [
    "X_train,X_test,y_train,y_test = train_test_split(X,y,test_size=0.15)\n",
    "X_train,X_val,y_train,y_val = train_test_split(X,y,test_size=0.15)"
   ]
  },
  {
   "cell_type": "code",
   "execution_count": 13,
   "metadata": {},
   "outputs": [],
   "source": [
    "nn=NeuralNet()"
   ]
  },
  {
   "cell_type": "code",
   "execution_count": 14,
   "metadata": {},
   "outputs": [],
   "source": [
    "\n",
    "#w=InitializeWeights([3,4,3])"
   ]
  },
  {
   "cell_type": "code",
   "execution_count": 15,
   "metadata": {},
   "outputs": [
    {
     "name": "stdout",
     "output_type": "stream",
     "text": [
      "Theta1 1 is (3, 4)\n",
      "Theta1 2 is (4, 4)\n",
      "Theta1 3 is (5, 5)\n"
     ]
    }
   ],
   "source": [
    "weights = nn.InitializeWeights([3,3,4,5])"
   ]
  },
  {
   "cell_type": "code",
   "execution_count": 16,
   "metadata": {},
   "outputs": [
    {
     "data": {
      "text/plain": [
       "[array([[-0.76463252,  0.6909323 , -0.10876818, -0.82299137],\n",
       "        [ 0.71320395,  0.12486164,  0.9482192 , -0.86996608],\n",
       "        [-0.39961706, -0.97976646, -0.662061  ,  0.04012776]]),\n",
       " array([[-0.53806541,  0.58582762, -0.9121192 , -0.1150102 ],\n",
       "        [-0.14231397, -0.29630867,  0.94849173, -0.81622017],\n",
       "        [-0.69787778,  0.33114079,  0.7961069 , -0.4841793 ],\n",
       "        [-0.36246622, -0.33001124,  0.19654102, -0.60430856]]),\n",
       " array([[ 0.59909059,  0.69609306,  0.86170596,  0.10561817,  0.29161393],\n",
       "        [ 0.86651222,  0.68587226, -0.82000978,  0.87915264,  0.33580108],\n",
       "        [ 0.14567261,  0.91552257,  0.65350262,  0.81406803, -0.30666841],\n",
       "        [ 0.82989681,  0.9105989 , -0.08926163,  0.52756848, -0.79915448],\n",
       "        [-0.95523877, -0.4091917 , -0.57741725,  0.75514184,  0.70298474]])]"
      ]
     },
     "execution_count": 16,
     "metadata": {},
     "output_type": "execute_result"
    }
   ],
   "source": [
    "weights"
   ]
  },
  {
   "cell_type": "code",
   "execution_count": 65,
   "metadata": {},
   "outputs": [
    {
     "data": {
      "text/plain": [
       "[matrix([[ 0.18734793, -0.37829884,  0.67842295],\n",
       "         [-0.27675087, -0.73787918,  0.36448819],\n",
       "         [-0.5488351 ,  0.27004328,  0.83267217],\n",
       "         [ 0.11737324, -0.91762755, -0.4757651 ]]),\n",
       " matrix([[ 0.04785949, -0.0395794 , -0.16293938,  0.75851122,  0.91265147],\n",
       "         [-0.83596415,  0.93492189, -0.31229461, -0.59771368, -0.92454887],\n",
       "         [-0.02916072, -0.79277271,  0.5740178 , -0.41649812,  0.20260036],\n",
       "         [-0.01923846, -0.59580988,  0.55597281, -0.08039979,  0.09142973],\n",
       "         [ 0.67276713, -0.47144907, -0.02109657, -0.54717868,  0.7665476 ]]),\n",
       " matrix([[-0.9123643 , -0.18977416,  0.73377923,  0.00263393,  0.12677134,\n",
       "           0.92227805],\n",
       "         [ 0.14624842, -0.75030769,  0.57119202, -0.14278296, -0.94445887,\n",
       "           0.01616189],\n",
       "         [ 0.58246066,  0.41517008, -0.0032809 ,  0.93138032,  0.71193962,\n",
       "          -0.33424083],\n",
       "         [-0.72852519, -0.42685655,  0.23539893, -0.62672142, -0.91067709,\n",
       "           0.70702944],\n",
       "         [-0.37733163, -0.66808797, -0.82216338, -0.38830184,  0.53454493,\n",
       "           0.4270402 ],\n",
       "         [ 0.56524685, -0.18090079,  0.79924999, -0.88952335,  0.74052175,\n",
       "           0.40604527]])]"
      ]
     },
     "execution_count": 65,
     "metadata": {},
     "output_type": "execute_result"
    }
   ],
   "source": [
    "InitializeWeights2([2,4,5,6])"
   ]
  },
  {
   "cell_type": "code",
   "execution_count": null,
   "metadata": {},
   "outputs": [],
   "source": []
  }
 ],
 "metadata": {
  "kernelspec": {
   "display_name": "Python 3",
   "language": "python",
   "name": "python3"
  },
  "language_info": {
   "codemirror_mode": {
    "name": "ipython",
    "version": 3
   },
   "file_extension": ".py",
   "mimetype": "text/x-python",
   "name": "python",
   "nbconvert_exporter": "python",
   "pygments_lexer": "ipython3",
   "version": "3.7.3"
  }
 },
 "nbformat": 4,
 "nbformat_minor": 2
}
